{
 "cells": [
  {
   "cell_type": "markdown",
   "metadata": {},
   "source": [
    "# 1. Tweet Preprocessing and Cleaning\n"
   ]
  },
  {
   "cell_type": "code",
   "execution_count": 1,
   "metadata": {},
   "outputs": [],
   "source": [
    "import re\n",
    "import pandas as pd\n",
    "import numpy as np\n",
    "import matplotlib.pyplot as plt\n",
    "import seaborn as sns\n",
    "import string\n",
    "import nltk\n",
    "import warnings\n",
    "warnings.filterwarnings(\"ignore\", category=DeprecationWarning)\n",
    "\n",
    "%matplotlib inline"
   ]
  },
  {
   "cell_type": "code",
   "execution_count": 2,
   "metadata": {},
   "outputs": [],
   "source": [
    "#import data\n",
    "train = pd.read_csv('Processed_data.csv')\n"
   ]
  },
  {
   "cell_type": "code",
   "execution_count": 6,
   "metadata": {},
   "outputs": [
    {
     "data": {
      "text/html": [
       "<div>\n",
       "<style scoped>\n",
       "    .dataframe tbody tr th:only-of-type {\n",
       "        vertical-align: middle;\n",
       "    }\n",
       "\n",
       "    .dataframe tbody tr th {\n",
       "        vertical-align: top;\n",
       "    }\n",
       "\n",
       "    .dataframe thead th {\n",
       "        text-align: right;\n",
       "    }\n",
       "</style>\n",
       "<table border=\"1\" class=\"dataframe\">\n",
       "  <thead>\n",
       "    <tr style=\"text-align: right;\">\n",
       "      <th></th>\n",
       "      <th>Tweets</th>\n",
       "      <th>cleaned_tweet</th>\n",
       "    </tr>\n",
       "  </thead>\n",
       "  <tbody>\n",
       "    <tr>\n",
       "      <th>0</th>\n",
       "      <td>Anonymous man with COVID threatens to go to ga...</td>\n",
       "      <td>Anonymous man with COVID threatens to go to ga...</td>\n",
       "    </tr>\n",
       "    <tr>\n",
       "      <th>1</th>\n",
       "      <td>#homophobia #dontbemean #SuicidePrevention</td>\n",
       "      <td>#homophobia #dontbemean #SuicidePrevention</td>\n",
       "    </tr>\n",
       "    <tr>\n",
       "      <th>2</th>\n",
       "      <td>I still have yet to try this and never will, s...</td>\n",
       "      <td>I still have yet to try this and never will, s...</td>\n",
       "    </tr>\n",
       "    <tr>\n",
       "      <th>3</th>\n",
       "      <td>Expecting homophobic, transphobic or otherwise...</td>\n",
       "      <td>Expecting homophobic, transphobic or otherwise...</td>\n",
       "    </tr>\n",
       "    <tr>\n",
       "      <th>4</th>\n",
       "      <td>#PositiveSexualHealthTuesday #TransAwarenessWe...</td>\n",
       "      <td>#PositiveSexualHealthTuesday #TransAwarenessWe...</td>\n",
       "    </tr>\n",
       "  </tbody>\n",
       "</table>\n",
       "</div>"
      ],
      "text/plain": [
       "                                              Tweets  \\\n",
       "0  Anonymous man with COVID threatens to go to ga...   \n",
       "1         #homophobia #dontbemean #SuicidePrevention   \n",
       "2  I still have yet to try this and never will, s...   \n",
       "3  Expecting homophobic, transphobic or otherwise...   \n",
       "4  #PositiveSexualHealthTuesday #TransAwarenessWe...   \n",
       "\n",
       "                                       cleaned_tweet  \n",
       "0  Anonymous man with COVID threatens to go to ga...  \n",
       "1         #homophobia #dontbemean #SuicidePrevention  \n",
       "2  I still have yet to try this and never will, s...  \n",
       "3  Expecting homophobic, transphobic or otherwise...  \n",
       "4  #PositiveSexualHealthTuesday #TransAwarenessWe...  "
      ]
     },
     "execution_count": 6,
     "metadata": {},
     "output_type": "execute_result"
    }
   ],
   "source": [
    "#Test the dataset\n",
    "train.head()"
   ]
  },
  {
   "cell_type": "code",
   "execution_count": 4,
   "metadata": {},
   "outputs": [],
   "source": [
    "#function for removing @user\n",
    "def remove_pattern(input_txt, pattern):\n",
    "    r = re.findall(pattern,input_txt)\n",
    "    for i in r:\n",
    "        input_txt = re.sub(i, '',input_txt)\n",
    "    return input_txt\n"
   ]
  },
  {
   "cell_type": "code",
   "execution_count": 5,
   "metadata": {},
   "outputs": [],
   "source": [
    "#create new column wwith removed @user\n",
    "train['cleaned_tweet'] = np.vectorize(remove_pattern)(train['Tweets'], '@[\\w]*')"
   ]
  },
  {
   "cell_type": "code",
   "execution_count": 6,
   "metadata": {},
   "outputs": [
    {
     "data": {
      "text/html": [
       "<div>\n",
       "<style scoped>\n",
       "    .dataframe tbody tr th:only-of-type {\n",
       "        vertical-align: middle;\n",
       "    }\n",
       "\n",
       "    .dataframe tbody tr th {\n",
       "        vertical-align: top;\n",
       "    }\n",
       "\n",
       "    .dataframe thead th {\n",
       "        text-align: right;\n",
       "    }\n",
       "</style>\n",
       "<table border=\"1\" class=\"dataframe\">\n",
       "  <thead>\n",
       "    <tr style=\"text-align: right;\">\n",
       "      <th></th>\n",
       "      <th>Tweets</th>\n",
       "      <th>cleaned_tweet</th>\n",
       "    </tr>\n",
       "  </thead>\n",
       "  <tbody>\n",
       "    <tr>\n",
       "      <th>0</th>\n",
       "      <td>Anonymous man with COVID threatens to go to ga...</td>\n",
       "      <td>Anonymous man with COVID threatens to go to ga...</td>\n",
       "    </tr>\n",
       "    <tr>\n",
       "      <th>1</th>\n",
       "      <td>#homophobia #dontbemean #SuicidePrevention</td>\n",
       "      <td>#homophobia #dontbemean #SuicidePrevention</td>\n",
       "    </tr>\n",
       "    <tr>\n",
       "      <th>2</th>\n",
       "      <td>I still have yet to try this and never will, s...</td>\n",
       "      <td>I still have yet to try this and never will, s...</td>\n",
       "    </tr>\n",
       "    <tr>\n",
       "      <th>3</th>\n",
       "      <td>Expecting homophobic, transphobic or otherwise...</td>\n",
       "      <td>Expecting homophobic, transphobic or otherwise...</td>\n",
       "    </tr>\n",
       "    <tr>\n",
       "      <th>4</th>\n",
       "      <td>#PositiveSexualHealthTuesday #TransAwarenessWe...</td>\n",
       "      <td>#PositiveSexualHealthTuesday #TransAwarenessWe...</td>\n",
       "    </tr>\n",
       "    <tr>\n",
       "      <th>5</th>\n",
       "      <td>@RealCandaceO Bitch, I have one word for you; ...</td>\n",
       "      <td>Bitch, I have one word for you;              ...</td>\n",
       "    </tr>\n",
       "    <tr>\n",
       "      <th>6</th>\n",
       "      <td>@jeff_kennett #MurdochGutterMedia is well repo...</td>\n",
       "      <td>#MurdochGutterMedia is well reported to influ...</td>\n",
       "    </tr>\n",
       "    <tr>\n",
       "      <th>7</th>\n",
       "      <td>Who's the more racist person? RT and feel free...</td>\n",
       "      <td>Who's the more racist person? RT and feel free...</td>\n",
       "    </tr>\n",
       "    <tr>\n",
       "      <th>8</th>\n",
       "      <td>I encourage my fellow parliamentarians to scru...</td>\n",
       "      <td>I encourage my fellow parliamentarians to scru...</td>\n",
       "    </tr>\n",
       "    <tr>\n",
       "      <th>9</th>\n",
       "      <td>@jeremycorbyn @jeremycorbyn did nothing to add...</td>\n",
       "      <td>did nothing to address #racism #homophobia i...</td>\n",
       "    </tr>\n",
       "  </tbody>\n",
       "</table>\n",
       "</div>"
      ],
      "text/plain": [
       "                                              Tweets  \\\n",
       "0  Anonymous man with COVID threatens to go to ga...   \n",
       "1         #homophobia #dontbemean #SuicidePrevention   \n",
       "2  I still have yet to try this and never will, s...   \n",
       "3  Expecting homophobic, transphobic or otherwise...   \n",
       "4  #PositiveSexualHealthTuesday #TransAwarenessWe...   \n",
       "5  @RealCandaceO Bitch, I have one word for you; ...   \n",
       "6  @jeff_kennett #MurdochGutterMedia is well repo...   \n",
       "7  Who's the more racist person? RT and feel free...   \n",
       "8  I encourage my fellow parliamentarians to scru...   \n",
       "9  @jeremycorbyn @jeremycorbyn did nothing to add...   \n",
       "\n",
       "                                       cleaned_tweet  \n",
       "0  Anonymous man with COVID threatens to go to ga...  \n",
       "1         #homophobia #dontbemean #SuicidePrevention  \n",
       "2  I still have yet to try this and never will, s...  \n",
       "3  Expecting homophobic, transphobic or otherwise...  \n",
       "4  #PositiveSexualHealthTuesday #TransAwarenessWe...  \n",
       "5   Bitch, I have one word for you;              ...  \n",
       "6   #MurdochGutterMedia is well reported to influ...  \n",
       "7  Who's the more racist person? RT and feel free...  \n",
       "8  I encourage my fellow parliamentarians to scru...  \n",
       "9    did nothing to address #racism #homophobia i...  "
      ]
     },
     "execution_count": 6,
     "metadata": {},
     "output_type": "execute_result"
    }
   ],
   "source": [
    "train.head(10)"
   ]
  },
  {
   "cell_type": "markdown",
   "metadata": {},
   "source": [
    "Any tweets with @... has been cleaned without the username @...."
   ]
  },
  {
   "cell_type": "markdown",
   "metadata": {},
   "source": [
    "# Removing Punctuations, numbers and special characters"
   ]
  },
  {
   "cell_type": "code",
   "execution_count": 7,
   "metadata": {},
   "outputs": [],
   "source": [
    "#remove special characters, numbers , punctuations\n",
    "\n",
    "#removing space\n",
    "train['cleaned_tweet'] = train['cleaned_tweet'].str.replace('[^A-Za-z0-9]+',' ')"
   ]
  },
  {
   "cell_type": "code",
   "execution_count": 8,
   "metadata": {},
   "outputs": [
    {
     "data": {
      "text/html": [
       "<div>\n",
       "<style scoped>\n",
       "    .dataframe tbody tr th:only-of-type {\n",
       "        vertical-align: middle;\n",
       "    }\n",
       "\n",
       "    .dataframe tbody tr th {\n",
       "        vertical-align: top;\n",
       "    }\n",
       "\n",
       "    .dataframe thead th {\n",
       "        text-align: right;\n",
       "    }\n",
       "</style>\n",
       "<table border=\"1\" class=\"dataframe\">\n",
       "  <thead>\n",
       "    <tr style=\"text-align: right;\">\n",
       "      <th></th>\n",
       "      <th>Tweets</th>\n",
       "      <th>cleaned_tweet</th>\n",
       "    </tr>\n",
       "  </thead>\n",
       "  <tbody>\n",
       "    <tr>\n",
       "      <th>0</th>\n",
       "      <td>Anonymous man with COVID threatens to go to ga...</td>\n",
       "      <td>Anonymous man with COVID threatens to go to ga...</td>\n",
       "    </tr>\n",
       "    <tr>\n",
       "      <th>1</th>\n",
       "      <td>#homophobia #dontbemean #SuicidePrevention</td>\n",
       "      <td>homophobia dontbemean SuicidePrevention</td>\n",
       "    </tr>\n",
       "    <tr>\n",
       "      <th>2</th>\n",
       "      <td>I still have yet to try this and never will, s...</td>\n",
       "      <td>I still have yet to try this and never will so...</td>\n",
       "    </tr>\n",
       "    <tr>\n",
       "      <th>3</th>\n",
       "      <td>Expecting homophobic, transphobic or otherwise...</td>\n",
       "      <td>Expecting homophobic transphobic or otherwise ...</td>\n",
       "    </tr>\n",
       "    <tr>\n",
       "      <th>4</th>\n",
       "      <td>#PositiveSexualHealthTuesday #TransAwarenessWe...</td>\n",
       "      <td>PositiveSexualHealthTuesday TransAwarenessWee...</td>\n",
       "    </tr>\n",
       "    <tr>\n",
       "      <th>5</th>\n",
       "      <td>@RealCandaceO Bitch, I have one word for you; ...</td>\n",
       "      <td>Bitch I have one word for you The end homopho...</td>\n",
       "    </tr>\n",
       "    <tr>\n",
       "      <th>6</th>\n",
       "      <td>@jeff_kennett #MurdochGutterMedia is well repo...</td>\n",
       "      <td>MurdochGutterMedia is well reported to influe...</td>\n",
       "    </tr>\n",
       "    <tr>\n",
       "      <th>7</th>\n",
       "      <td>Who's the more racist person? RT and feel free...</td>\n",
       "      <td>Who s the more racist person RT and feel free ...</td>\n",
       "    </tr>\n",
       "    <tr>\n",
       "      <th>8</th>\n",
       "      <td>I encourage my fellow parliamentarians to scru...</td>\n",
       "      <td>I encourage my fellow parliamentarians to scru...</td>\n",
       "    </tr>\n",
       "    <tr>\n",
       "      <th>9</th>\n",
       "      <td>@jeremycorbyn @jeremycorbyn did nothing to add...</td>\n",
       "      <td>did nothing to address racism homophobia in w...</td>\n",
       "    </tr>\n",
       "  </tbody>\n",
       "</table>\n",
       "</div>"
      ],
      "text/plain": [
       "                                              Tweets  \\\n",
       "0  Anonymous man with COVID threatens to go to ga...   \n",
       "1         #homophobia #dontbemean #SuicidePrevention   \n",
       "2  I still have yet to try this and never will, s...   \n",
       "3  Expecting homophobic, transphobic or otherwise...   \n",
       "4  #PositiveSexualHealthTuesday #TransAwarenessWe...   \n",
       "5  @RealCandaceO Bitch, I have one word for you; ...   \n",
       "6  @jeff_kennett #MurdochGutterMedia is well repo...   \n",
       "7  Who's the more racist person? RT and feel free...   \n",
       "8  I encourage my fellow parliamentarians to scru...   \n",
       "9  @jeremycorbyn @jeremycorbyn did nothing to add...   \n",
       "\n",
       "                                       cleaned_tweet  \n",
       "0  Anonymous man with COVID threatens to go to ga...  \n",
       "1            homophobia dontbemean SuicidePrevention  \n",
       "2  I still have yet to try this and never will so...  \n",
       "3  Expecting homophobic transphobic or otherwise ...  \n",
       "4   PositiveSexualHealthTuesday TransAwarenessWee...  \n",
       "5   Bitch I have one word for you The end homopho...  \n",
       "6   MurdochGutterMedia is well reported to influe...  \n",
       "7  Who s the more racist person RT and feel free ...  \n",
       "8  I encourage my fellow parliamentarians to scru...  \n",
       "9   did nothing to address racism homophobia in w...  "
      ]
     },
     "execution_count": 8,
     "metadata": {},
     "output_type": "execute_result"
    }
   ],
   "source": [
    "train.head(10)"
   ]
  },
  {
   "cell_type": "markdown",
   "metadata": {},
   "source": [
    "# Removing the short words."
   ]
  },
  {
   "cell_type": "code",
   "execution_count": 9,
   "metadata": {},
   "outputs": [],
   "source": [
    "# remove the short words ~ \n",
    "train['cleaned_tweet'] = train['cleaned_tweet'].apply(lambda x: ' '.join([w for w in x.split() if len(w) > 3]))"
   ]
  },
  {
   "cell_type": "code",
   "execution_count": 10,
   "metadata": {},
   "outputs": [
    {
     "data": {
      "text/html": [
       "<div>\n",
       "<style scoped>\n",
       "    .dataframe tbody tr th:only-of-type {\n",
       "        vertical-align: middle;\n",
       "    }\n",
       "\n",
       "    .dataframe tbody tr th {\n",
       "        vertical-align: top;\n",
       "    }\n",
       "\n",
       "    .dataframe thead th {\n",
       "        text-align: right;\n",
       "    }\n",
       "</style>\n",
       "<table border=\"1\" class=\"dataframe\">\n",
       "  <thead>\n",
       "    <tr style=\"text-align: right;\">\n",
       "      <th></th>\n",
       "      <th>Tweets</th>\n",
       "      <th>cleaned_tweet</th>\n",
       "    </tr>\n",
       "  </thead>\n",
       "  <tbody>\n",
       "    <tr>\n",
       "      <th>133313</th>\n",
       "      <td>#tetapnormal</td>\n",
       "      <td>tetapnormal</td>\n",
       "    </tr>\n",
       "    <tr>\n",
       "      <th>133314</th>\n",
       "      <td>We do not even reject those who are involved w...</td>\n",
       "      <td>even reject those involved with LGBT fact many...</td>\n",
       "    </tr>\n",
       "    <tr>\n",
       "      <th>133315</th>\n",
       "      <td>God has created you the best of creation in ac...</td>\n",
       "      <td>created best creation accordance with nature c...</td>\n",
       "    </tr>\n",
       "    <tr>\n",
       "      <th>133316</th>\n",
       "      <td>Why is it necessary to normalize things that a...</td>\n",
       "      <td>necessary normalize things that clearly forbid...</td>\n",
       "    </tr>\n",
       "    <tr>\n",
       "      <th>133317</th>\n",
       "      <td>#tetapnormal Surah Al-Baqarah: verse 216 ..may...</td>\n",
       "      <td>tetapnormal Surah Baqarah verse maybe hate som...</td>\n",
       "    </tr>\n",
       "    <tr>\n",
       "      <th>133318</th>\n",
       "      <td>Are you really proud of that elbibiti flag? # ...</td>\n",
       "      <td>really proud that elbibiti flag StayNormal Proud</td>\n",
       "    </tr>\n",
       "    <tr>\n",
       "      <th>133319</th>\n",
       "      <td>We can be kind and gentle to help friends who ...</td>\n",
       "      <td>kind gentle help friends LGBT valley those fig...</td>\n",
       "    </tr>\n",
       "    <tr>\n",
       "      <th>133320</th>\n",
       "      <td># TetapnormalðŸ ‡ ²ðŸ ‡ ¾</td>\n",
       "      <td>Tetapnormal</td>\n",
       "    </tr>\n",
       "    <tr>\n",
       "      <th>133321</th>\n",
       "      <td>Want to be extraordinary do not go against nat...</td>\n",
       "      <td>Want extraordinary against nature tetapnormal</td>\n",
       "    </tr>\n",
       "    <tr>\n",
       "      <th>133322</th>\n",
       "      <td>#TetapNormal</td>\n",
       "      <td>TetapNormal</td>\n",
       "    </tr>\n",
       "  </tbody>\n",
       "</table>\n",
       "</div>"
      ],
      "text/plain": [
       "                                                   Tweets  \\\n",
       "133313                                       #tetapnormal   \n",
       "133314  We do not even reject those who are involved w...   \n",
       "133315  God has created you the best of creation in ac...   \n",
       "133316  Why is it necessary to normalize things that a...   \n",
       "133317  #tetapnormal Surah Al-Baqarah: verse 216 ..may...   \n",
       "133318  Are you really proud of that elbibiti flag? # ...   \n",
       "133319  We can be kind and gentle to help friends who ...   \n",
       "133320                          # TetapnormalðŸ ‡ ²ðŸ ‡ ¾   \n",
       "133321  Want to be extraordinary do not go against nat...   \n",
       "133322                                       #TetapNormal   \n",
       "\n",
       "                                            cleaned_tweet  \n",
       "133313                                        tetapnormal  \n",
       "133314  even reject those involved with LGBT fact many...  \n",
       "133315  created best creation accordance with nature c...  \n",
       "133316  necessary normalize things that clearly forbid...  \n",
       "133317  tetapnormal Surah Baqarah verse maybe hate som...  \n",
       "133318   really proud that elbibiti flag StayNormal Proud  \n",
       "133319  kind gentle help friends LGBT valley those fig...  \n",
       "133320                                        Tetapnormal  \n",
       "133321      Want extraordinary against nature tetapnormal  \n",
       "133322                                        TetapNormal  "
      ]
     },
     "execution_count": 10,
     "metadata": {},
     "output_type": "execute_result"
    }
   ],
   "source": [
    "train.tail(10)"
   ]
  },
  {
   "cell_type": "markdown",
   "metadata": {},
   "source": [
    "# Tokenization"
   ]
  },
  {
   "cell_type": "code",
   "execution_count": 11,
   "metadata": {},
   "outputs": [],
   "source": [
    "#create new variable tookenize tweet\n",
    "tokenized_tweet = train['cleaned_tweet'].apply(lambda x: x.split())"
   ]
  },
  {
   "cell_type": "code",
   "execution_count": 12,
   "metadata": {},
   "outputs": [
    {
     "data": {
      "text/plain": [
       "0         [Anonymous, with, COVID, threatens, bars, spre...\n",
       "1               [homophobia, dontbemean, SuicidePrevention]\n",
       "2         [still, have, this, never, will, someone, desc...\n",
       "3         [Expecting, homophobic, transphobic, otherwise...\n",
       "4         [PositiveSexualHealthTuesday, TransAwarenessWe...\n",
       "                                ...                        \n",
       "133318    [really, proud, that, elbibiti, flag, StayNorm...\n",
       "133319    [kind, gentle, help, friends, LGBT, valley, th...\n",
       "133320                                        [Tetapnormal]\n",
       "133321    [Want, extraordinary, against, nature, tetapno...\n",
       "133322                                        [TetapNormal]\n",
       "Name: cleaned_tweet, Length: 133323, dtype: object"
      ]
     },
     "execution_count": 12,
     "metadata": {},
     "output_type": "execute_result"
    }
   ],
   "source": [
    "tokenized_tweet"
   ]
  },
  {
   "cell_type": "markdown",
   "metadata": {},
   "source": [
    "## Removing Stop Words"
   ]
  },
  {
   "cell_type": "code",
   "execution_count": 13,
   "metadata": {},
   "outputs": [],
   "source": [
    "from nltk.corpus import stopwords\n",
    "\n",
    "stop_words = stopwords.words('english')\n",
    "def filter_words(tokenized_data):\n",
    "    filtered_data = []\n",
    "    for (tokenized_words, sentiment) in tokenized_data:\n",
    "        filtered_data.append(([stem_the_word(remove_punctuation(word.lower())) for word in tokenized_words if remove_punctuation(word.lower()) not in stop_words and remove_punctuation(word.lower()) != ''], sentiment))\n",
    "    return filtered_data"
   ]
  },
  {
   "cell_type": "code",
   "execution_count": 14,
   "metadata": {},
   "outputs": [
    {
     "data": {
      "text/html": [
       "<div>\n",
       "<style scoped>\n",
       "    .dataframe tbody tr th:only-of-type {\n",
       "        vertical-align: middle;\n",
       "    }\n",
       "\n",
       "    .dataframe tbody tr th {\n",
       "        vertical-align: top;\n",
       "    }\n",
       "\n",
       "    .dataframe thead th {\n",
       "        text-align: right;\n",
       "    }\n",
       "</style>\n",
       "<table border=\"1\" class=\"dataframe\">\n",
       "  <thead>\n",
       "    <tr style=\"text-align: right;\">\n",
       "      <th></th>\n",
       "      <th>Tweets</th>\n",
       "      <th>cleaned_tweet</th>\n",
       "    </tr>\n",
       "  </thead>\n",
       "  <tbody>\n",
       "    <tr>\n",
       "      <th>0</th>\n",
       "      <td>Anonymous man with COVID threatens to go to ga...</td>\n",
       "      <td>Anonymous with COVID threatens bars spread inf...</td>\n",
       "    </tr>\n",
       "    <tr>\n",
       "      <th>1</th>\n",
       "      <td>#homophobia #dontbemean #SuicidePrevention</td>\n",
       "      <td>homophobia dontbemean SuicidePrevention</td>\n",
       "    </tr>\n",
       "    <tr>\n",
       "      <th>2</th>\n",
       "      <td>I still have yet to try this and never will, s...</td>\n",
       "      <td>still have this never will someone describe ta...</td>\n",
       "    </tr>\n",
       "    <tr>\n",
       "      <th>3</th>\n",
       "      <td>Expecting homophobic, transphobic or otherwise...</td>\n",
       "      <td>Expecting homophobic transphobic otherwise que...</td>\n",
       "    </tr>\n",
       "    <tr>\n",
       "      <th>4</th>\n",
       "      <td>#PositiveSexualHealthTuesday #TransAwarenessWe...</td>\n",
       "      <td>PositiveSexualHealthTuesday TransAwarenessWeek...</td>\n",
       "    </tr>\n",
       "  </tbody>\n",
       "</table>\n",
       "</div>"
      ],
      "text/plain": [
       "                                              Tweets  \\\n",
       "0  Anonymous man with COVID threatens to go to ga...   \n",
       "1         #homophobia #dontbemean #SuicidePrevention   \n",
       "2  I still have yet to try this and never will, s...   \n",
       "3  Expecting homophobic, transphobic or otherwise...   \n",
       "4  #PositiveSexualHealthTuesday #TransAwarenessWe...   \n",
       "\n",
       "                                       cleaned_tweet  \n",
       "0  Anonymous with COVID threatens bars spread inf...  \n",
       "1            homophobia dontbemean SuicidePrevention  \n",
       "2  still have this never will someone describe ta...  \n",
       "3  Expecting homophobic transphobic otherwise que...  \n",
       "4  PositiveSexualHealthTuesday TransAwarenessWeek...  "
      ]
     },
     "execution_count": 14,
     "metadata": {},
     "output_type": "execute_result"
    }
   ],
   "source": [
    "train.head()"
   ]
  },
  {
   "cell_type": "markdown",
   "metadata": {},
   "source": [
    "# Stemming"
   ]
  },
  {
   "cell_type": "code",
   "execution_count": 15,
   "metadata": {},
   "outputs": [],
   "source": [
    "from nltk.stem.porter import *\n",
    "stemmer = PorterStemmer()\n",
    "\n",
    "# apply stemmer for tokenized_tweets\n",
    "tokenized_tweet = tokenized_tweet.apply(lambda x: [stemmer.stem(i) for i in x])\n",
    "#Saved in a list "
   ]
  },
  {
   "cell_type": "code",
   "execution_count": 16,
   "metadata": {},
   "outputs": [
    {
     "data": {
      "text/plain": [
       "133313                                          [tetapnorm]\n",
       "133314    [even, reject, those, involv, with, lgbt, fact...\n",
       "133315    [creat, best, creation, accord, with, natur, c...\n",
       "133316    [necessari, normal, thing, that, clearli, forb...\n",
       "133317    [tetapnorm, surah, baqarah, vers, mayb, hate, ...\n",
       "133318    [realli, proud, that, elbib, flag, staynorm, p...\n",
       "133319    [kind, gentl, help, friend, lgbt, valley, thos...\n",
       "133320                                          [tetapnorm]\n",
       "133321     [want, extraordinari, against, natur, tetapnorm]\n",
       "133322                                          [tetapnorm]\n",
       "Name: cleaned_tweet, dtype: object"
      ]
     },
     "execution_count": 16,
     "metadata": {},
     "output_type": "execute_result"
    }
   ],
   "source": [
    "tokenized_tweet.tail(10)\n"
   ]
  },
  {
   "cell_type": "code",
   "execution_count": 17,
   "metadata": {},
   "outputs": [],
   "source": [
    "# join tokens into one sentence\n",
    "for i in range(len(tokenized_tweet)):\n",
    "    tokenized_tweet[i] = ' '.join(tokenized_tweet[i])\n",
    "\n",
    "#change train['cleaned_tweet'] to tokenized tweet\n",
    "train['cleaned_tweet'] = tokenized_tweet"
   ]
  },
  {
   "cell_type": "code",
   "execution_count": 18,
   "metadata": {},
   "outputs": [
    {
     "data": {
      "text/html": [
       "<div>\n",
       "<style scoped>\n",
       "    .dataframe tbody tr th:only-of-type {\n",
       "        vertical-align: middle;\n",
       "    }\n",
       "\n",
       "    .dataframe tbody tr th {\n",
       "        vertical-align: top;\n",
       "    }\n",
       "\n",
       "    .dataframe thead th {\n",
       "        text-align: right;\n",
       "    }\n",
       "</style>\n",
       "<table border=\"1\" class=\"dataframe\">\n",
       "  <thead>\n",
       "    <tr style=\"text-align: right;\">\n",
       "      <th></th>\n",
       "      <th>Tweets</th>\n",
       "      <th>cleaned_tweet</th>\n",
       "    </tr>\n",
       "  </thead>\n",
       "  <tbody>\n",
       "    <tr>\n",
       "      <th>133318</th>\n",
       "      <td>Are you really proud of that elbibiti flag? # ...</td>\n",
       "      <td>realli proud that elbib flag staynorm proud</td>\n",
       "    </tr>\n",
       "    <tr>\n",
       "      <th>133319</th>\n",
       "      <td>We can be kind and gentle to help friends who ...</td>\n",
       "      <td>kind gentl help friend lgbt valley those fight...</td>\n",
       "    </tr>\n",
       "    <tr>\n",
       "      <th>133320</th>\n",
       "      <td># TetapnormalðŸ ‡ ²ðŸ ‡ ¾</td>\n",
       "      <td>tetapnorm</td>\n",
       "    </tr>\n",
       "    <tr>\n",
       "      <th>133321</th>\n",
       "      <td>Want to be extraordinary do not go against nat...</td>\n",
       "      <td>want extraordinari against natur tetapnorm</td>\n",
       "    </tr>\n",
       "    <tr>\n",
       "      <th>133322</th>\n",
       "      <td>#TetapNormal</td>\n",
       "      <td>tetapnorm</td>\n",
       "    </tr>\n",
       "  </tbody>\n",
       "</table>\n",
       "</div>"
      ],
      "text/plain": [
       "                                                   Tweets  \\\n",
       "133318  Are you really proud of that elbibiti flag? # ...   \n",
       "133319  We can be kind and gentle to help friends who ...   \n",
       "133320                          # TetapnormalðŸ ‡ ²ðŸ ‡ ¾   \n",
       "133321  Want to be extraordinary do not go against nat...   \n",
       "133322                                       #TetapNormal   \n",
       "\n",
       "                                            cleaned_tweet  \n",
       "133318        realli proud that elbib flag staynorm proud  \n",
       "133319  kind gentl help friend lgbt valley those fight...  \n",
       "133320                                          tetapnorm  \n",
       "133321         want extraordinari against natur tetapnorm  \n",
       "133322                                          tetapnorm  "
      ]
     },
     "execution_count": 18,
     "metadata": {},
     "output_type": "execute_result"
    }
   ],
   "source": [
    "train.tail(5)"
   ]
  },
  {
   "cell_type": "code",
   "execution_count": 19,
   "metadata": {},
   "outputs": [],
   "source": [
    "train.drop_duplicates(keep=False, inplace=True)"
   ]
  },
  {
   "cell_type": "code",
   "execution_count": 20,
   "metadata": {},
   "outputs": [],
   "source": [
    "# Saved into a new csv files\n",
    "\n",
    "submission = train[['cleaned_tweet']]\n",
    "submission.to_csv('clean.csv', index = False)\n",
    "\n"
   ]
  },
  {
   "cell_type": "markdown",
   "metadata": {},
   "source": [
    "The processed data that has been cleaned is saved into Clean.csv files.\n",
    "\n",
    "The data will be visualize and sentiment analysis in the next part."
   ]
  },
  {
   "cell_type": "code",
   "execution_count": 1,
   "metadata": {
    "collapsed": true
   },
   "outputs": [
    {
     "ename": "NameError",
     "evalue": "name 'tweets' is not defined",
     "output_type": "error",
     "traceback": [
      "\u001b[1;31m---------------------------------------------------------------------------\u001b[0m",
      "\u001b[1;31mNameError\u001b[0m                                 Traceback (most recent call last)",
      "\u001b[1;32m<ipython-input-1-ff2c5bb50ff6>\u001b[0m in \u001b[0;36m<module>\u001b[1;34m\u001b[0m\n\u001b[1;32m----> 1\u001b[1;33m \u001b[1;32mfor\u001b[0m \u001b[0mtweet\u001b[0m \u001b[1;32min\u001b[0m \u001b[0mtweets\u001b[0m\u001b[1;33m:\u001b[0m\u001b[1;33m\u001b[0m\u001b[1;33m\u001b[0m\u001b[0m\n\u001b[0m\u001b[0;32m      2\u001b[0m   \u001b[0mprint\u001b[0m\u001b[1;33m(\u001b[0m\u001b[0mtweet\u001b[0m\u001b[1;33m.\u001b[0m\u001b[0mtext\u001b[0m\u001b[1;33m)\u001b[0m\u001b[1;33m\u001b[0m\u001b[1;33m\u001b[0m\u001b[0m\n\u001b[0;32m      3\u001b[0m \u001b[1;33m\u001b[0m\u001b[0m\n\u001b[0;32m      4\u001b[0m   \u001b[0manalysis\u001b[0m  \u001b[1;33m=\u001b[0m \u001b[0mTextBlob\u001b[0m\u001b[1;33m(\u001b[0m\u001b[0mtweet\u001b[0m\u001b[1;33m.\u001b[0m\u001b[0mtext\u001b[0m\u001b[1;33m)\u001b[0m\u001b[1;33m\u001b[0m\u001b[1;33m\u001b[0m\u001b[0m\n\u001b[0;32m      5\u001b[0m   \u001b[0ma\u001b[0m \u001b[1;33m=\u001b[0m \u001b[0manalysis\u001b[0m\u001b[1;33m.\u001b[0m\u001b[0msentiment\u001b[0m\u001b[1;33m.\u001b[0m\u001b[0mpolarity\u001b[0m\u001b[1;33m\u001b[0m\u001b[1;33m\u001b[0m\u001b[0m\n",
      "\u001b[1;31mNameError\u001b[0m: name 'tweets' is not defined"
     ]
    }
   ],
   "source": []
  },
  {
   "cell_type": "code",
   "execution_count": null,
   "metadata": {},
   "outputs": [],
   "source": []
  }
 ],
 "metadata": {
  "kernelspec": {
   "display_name": "Python 3",
   "language": "python",
   "name": "python3"
  },
  "language_info": {
   "codemirror_mode": {
    "name": "ipython",
    "version": 3
   },
   "file_extension": ".py",
   "mimetype": "text/x-python",
   "name": "python",
   "nbconvert_exporter": "python",
   "pygments_lexer": "ipython3",
   "version": "3.8.5"
  }
 },
 "nbformat": 4,
 "nbformat_minor": 4
}
